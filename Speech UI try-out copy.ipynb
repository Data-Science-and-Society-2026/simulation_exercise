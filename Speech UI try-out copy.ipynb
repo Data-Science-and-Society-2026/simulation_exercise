{
 "cells": [
  {
   "cell_type": "code",
   "execution_count": 1,
   "metadata": {},
   "outputs": [
    {
     "name": "stderr",
     "output_type": "stream",
     "text": [
      "2025-02-20 09:40:10.364 python[5629:71474] +[IMKClient subclass]: chose IMKClient_Modern\n",
      "2025-02-20 09:40:10.364 python[5629:71474] +[IMKInputSession subclass]: chose IMKInputSession_Modern\n"
     ]
    },
    {
     "ename": "",
     "evalue": "",
     "output_type": "error",
     "traceback": [
      "\u001b[1;31mThe Kernel crashed while executing code in the current cell or a previous cell. \n",
      "\u001b[1;31mPlease review the code in the cell(s) to identify a possible cause of the failure. \n",
      "\u001b[1;31mClick <a href='https://aka.ms/vscodeJupyterKernelCrash'>here</a> for more info. \n",
      "\u001b[1;31mView Jupyter <a href='command:jupyter.viewOutput'>log</a> for further details."
     ]
    }
   ],
   "source": [
    "import tkinter as tk\n",
    "from tkinter import messagebox\n",
    "import speech_recognition as sr\n",
    "\n",
    "def recognize_speech():\n",
    "    recognizer = sr.Recognizer()\n",
    "     # Selecting the default microphone as the source; perhaps this has to be adjusted for the VR system\n",
    "    with sr.Microphone() as source:\n",
    "        status_label.config(text=\"Listening...\")\n",
    "        root.update()\n",
    "        \n",
    "        try:\n",
    "            # Listening to the audio for 10 seconds\n",
    "            audio = recognizer.listen(source, timeout=10)\n",
    "            status_label.config(text=\"Processing...\")\n",
    "            root.update()\n",
    "            \n",
    "            # Recognizing the speech\n",
    "            text = recognizer.recognize_google(audio)\n",
    "            text_output.config(state=tk.NORMAL)\n",
    "            text_output.delete(\"1.0\", tk.END)\n",
    "            text_output.insert(tk.END, text)\n",
    "            text_output.config(state=tk.DISABLED)\n",
    "            status_label.config(text=\"Done\")\n",
    "\n",
    "        # Handling exceptions\n",
    "        except sr.UnknownValueError:\n",
    "            messagebox.showerror(\"Error\", \"Could not understand the audio\")\n",
    "            status_label.config(text=\"Try Again\")\n",
    "        except sr.RequestError:\n",
    "            messagebox.showerror(\"Error\", \"Could not request results, check internet connection\")\n",
    "            status_label.config(text=\"Network Error\")\n",
    "        except sr.WaitTimeoutError:\n",
    "            messagebox.showerror(\"Error\", \"No speech detected\")\n",
    "            status_label.config(text=\"Timeout\")\n",
    "\n",
    "def save_text():\n",
    "    # Saving the output to a text file\n",
    "    text = text_output.get(\"1.0\", tk.END).strip()\n",
    "    if text:\n",
    "        with open(\"speech_output.txt\", \"w\", encoding=\"utf-8\") as file:\n",
    "            file.write(text)\n",
    "        messagebox.showinfo(\"Saved\", \"Speech saved to speech_output.txt\")\n",
    "    else:\n",
    "        messagebox.showwarning(\"Warning\", \"No text to save\")\n",
    "\n",
    "# UI Setup\n",
    "root = tk.Tk()\n",
    "root.title(\"Speech to Text UI\")\n",
    "root.geometry(\"400x350\")\n",
    "\n",
    "label = tk.Label(root, text=\"Click the button and speak:\")\n",
    "label.pack(pady=10)\n",
    "\n",
    "# Record button and linking it to recognizing speech function\n",
    "record_button = tk.Button(root, text=\"Record\", command=recognize_speech)\n",
    "record_button.pack(pady=10)\n",
    "\n",
    "# Idle\n",
    "status_label = tk.Label(root, text=\"Idle\", fg=\"blue\")\n",
    "status_label.pack(pady=5)\n",
    "\n",
    "text_output = tk.Text(root, height=5, width=40, state=tk.DISABLED)\n",
    "text_output.pack(pady=10)\n",
    "\n",
    "# Adding the save button and linking it to the save_text function\n",
    "save_button = tk.Button(root, text=\"Save Text\", command=save_text)\n",
    "save_button.pack(pady=10)\n",
    "\n",
    "root.mainloop()"
   ]
  }
 ],
 "metadata": {
  "kernelspec": {
   "display_name": "base",
   "language": "python",
   "name": "python3"
  },
  "language_info": {
   "codemirror_mode": {
    "name": "ipython",
    "version": 3
   },
   "file_extension": ".py",
   "mimetype": "text/x-python",
   "name": "python",
   "nbconvert_exporter": "python",
   "pygments_lexer": "ipython3",
   "version": "3.11.5"
  }
 },
 "nbformat": 4,
 "nbformat_minor": 2
}
